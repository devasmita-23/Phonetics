{
  "nbformat": 4,
  "nbformat_minor": 0,
  "metadata": {
    "colab": {
      "provenance": []
    },
    "kernelspec": {
      "name": "python3",
      "display_name": "Python 3"
    },
    "language_info": {
      "name": "python"
    }
  },
  "cells": [
    {
      "cell_type": "code",
      "source": [
        "!pip install epitran gtts playsound\n"
      ],
      "metadata": {
        "colab": {
          "base_uri": "https://localhost:8080/"
        },
        "id": "tTcJoqs9qx7l",
        "outputId": "8cb1abbe-deec-4f2e-b0a8-69b71f1304b6"
      },
      "execution_count": 26,
      "outputs": [
        {
          "output_type": "stream",
          "name": "stdout",
          "text": [
            "Requirement already satisfied: epitran in /usr/local/lib/python3.11/dist-packages (1.26.0)\n",
            "Requirement already satisfied: gtts in /usr/local/lib/python3.11/dist-packages (2.5.4)\n",
            "Requirement already satisfied: playsound in /usr/local/lib/python3.11/dist-packages (1.3.0)\n",
            "Requirement already satisfied: setuptools in /usr/local/lib/python3.11/dist-packages (from epitran) (75.8.0)\n",
            "Requirement already satisfied: regex in /usr/local/lib/python3.11/dist-packages (from epitran) (2024.11.6)\n",
            "Requirement already satisfied: panphon>=0.20 in /usr/local/lib/python3.11/dist-packages (from epitran) (0.21.2)\n",
            "Requirement already satisfied: marisa-trie in /usr/local/lib/python3.11/dist-packages (from epitran) (1.2.1)\n",
            "Requirement already satisfied: requests in /usr/local/lib/python3.11/dist-packages (from epitran) (2.32.3)\n",
            "Requirement already satisfied: jamo in /usr/local/lib/python3.11/dist-packages (from epitran) (0.4.1)\n",
            "Requirement already satisfied: click<8.2,>=7.1 in /usr/local/lib/python3.11/dist-packages (from gtts) (8.1.8)\n",
            "Requirement already satisfied: unicodecsv in /usr/local/lib/python3.11/dist-packages (from panphon>=0.20->epitran) (0.14.1)\n",
            "Requirement already satisfied: PyYAML in /usr/local/lib/python3.11/dist-packages (from panphon>=0.20->epitran) (6.0.2)\n",
            "Requirement already satisfied: numpy>=1.20.2 in /usr/local/lib/python3.11/dist-packages (from panphon>=0.20->epitran) (2.2.3)\n",
            "Requirement already satisfied: editdistance in /usr/local/lib/python3.11/dist-packages (from panphon>=0.20->epitran) (0.8.1)\n",
            "Requirement already satisfied: munkres in /usr/local/lib/python3.11/dist-packages (from panphon>=0.20->epitran) (1.1.4)\n",
            "Requirement already satisfied: charset-normalizer<4,>=2 in /usr/local/lib/python3.11/dist-packages (from requests->epitran) (3.4.1)\n",
            "Requirement already satisfied: idna<4,>=2.5 in /usr/local/lib/python3.11/dist-packages (from requests->epitran) (3.10)\n",
            "Requirement already satisfied: urllib3<3,>=1.21.1 in /usr/local/lib/python3.11/dist-packages (from requests->epitran) (2.3.0)\n",
            "Requirement already satisfied: certifi>=2017.4.17 in /usr/local/lib/python3.11/dist-packages (from requests->epitran) (2025.1.31)\n"
          ]
        }
      ]
    },
    {
      "cell_type": "code",
      "execution_count": 27,
      "metadata": {
        "colab": {
          "base_uri": "https://localhost:8080/"
        },
        "id": "_X6_SykZqWm3",
        "outputId": "277690aa-29b5-4508-f139-03acc1734dcb"
      },
      "outputs": [
        {
          "output_type": "stream",
          "name": "stdout",
          "text": [
            "Requirement already satisfied: epitran in /usr/local/lib/python3.11/dist-packages (1.26.0)\n",
            "Requirement already satisfied: gtts in /usr/local/lib/python3.11/dist-packages (2.5.4)\n",
            "Requirement already satisfied: playsound in /usr/local/lib/python3.11/dist-packages (1.3.0)\n",
            "\u001b[31mERROR: Could not find a version that satisfies the requirement tkinter (from versions: none)\u001b[0m\u001b[31m\n",
            "\u001b[0m\u001b[31mERROR: No matching distribution found for tkinter\u001b[0m\u001b[31m\n",
            "\u001b[0m"
          ]
        }
      ],
      "source": [
        "pip install epitran gtts playsound tkinter\n"
      ]
    },
    {
      "cell_type": "code",
      "source": [
        "!pip install phonemizer gtts pydub\n",
        "!apt-get install espeak-ng -y\n"
      ],
      "metadata": {
        "colab": {
          "base_uri": "https://localhost:8080/"
        },
        "id": "z3B1VJ8FrSIa",
        "outputId": "cb6ef407-cf72-4502-913b-9d171dab1999"
      },
      "execution_count": 28,
      "outputs": [
        {
          "output_type": "stream",
          "name": "stdout",
          "text": [
            "Requirement already satisfied: phonemizer in /usr/local/lib/python3.11/dist-packages (3.3.0)\n",
            "Requirement already satisfied: gtts in /usr/local/lib/python3.11/dist-packages (2.5.4)\n",
            "Requirement already satisfied: pydub in /usr/local/lib/python3.11/dist-packages (0.25.1)\n",
            "Requirement already satisfied: joblib in /usr/local/lib/python3.11/dist-packages (from phonemizer) (1.4.2)\n",
            "Requirement already satisfied: segments in /usr/local/lib/python3.11/dist-packages (from phonemizer) (2.3.0)\n",
            "Requirement already satisfied: attrs>=18.1 in /usr/local/lib/python3.11/dist-packages (from phonemizer) (25.1.0)\n",
            "Requirement already satisfied: dlinfo in /usr/local/lib/python3.11/dist-packages (from phonemizer) (2.0.0)\n",
            "Requirement already satisfied: typing-extensions in /usr/local/lib/python3.11/dist-packages (from phonemizer) (4.12.2)\n",
            "Requirement already satisfied: requests<3,>=2.27 in /usr/local/lib/python3.11/dist-packages (from gtts) (2.32.3)\n",
            "Requirement already satisfied: click<8.2,>=7.1 in /usr/local/lib/python3.11/dist-packages (from gtts) (8.1.8)\n",
            "Requirement already satisfied: charset-normalizer<4,>=2 in /usr/local/lib/python3.11/dist-packages (from requests<3,>=2.27->gtts) (3.4.1)\n",
            "Requirement already satisfied: idna<4,>=2.5 in /usr/local/lib/python3.11/dist-packages (from requests<3,>=2.27->gtts) (3.10)\n",
            "Requirement already satisfied: urllib3<3,>=1.21.1 in /usr/local/lib/python3.11/dist-packages (from requests<3,>=2.27->gtts) (2.3.0)\n",
            "Requirement already satisfied: certifi>=2017.4.17 in /usr/local/lib/python3.11/dist-packages (from requests<3,>=2.27->gtts) (2025.1.31)\n",
            "Requirement already satisfied: regex in /usr/local/lib/python3.11/dist-packages (from segments->phonemizer) (2024.11.6)\n",
            "Requirement already satisfied: csvw>=1.5.6 in /usr/local/lib/python3.11/dist-packages (from segments->phonemizer) (3.5.1)\n",
            "Requirement already satisfied: isodate in /usr/local/lib/python3.11/dist-packages (from csvw>=1.5.6->segments->phonemizer) (0.7.2)\n",
            "Requirement already satisfied: python-dateutil in /usr/local/lib/python3.11/dist-packages (from csvw>=1.5.6->segments->phonemizer) (2.9.0.post0)\n",
            "Requirement already satisfied: rfc3986<2 in /usr/local/lib/python3.11/dist-packages (from csvw>=1.5.6->segments->phonemizer) (1.5.0)\n",
            "Requirement already satisfied: uritemplate>=3.0.0 in /usr/local/lib/python3.11/dist-packages (from csvw>=1.5.6->segments->phonemizer) (4.1.1)\n",
            "Requirement already satisfied: babel in /usr/local/lib/python3.11/dist-packages (from csvw>=1.5.6->segments->phonemizer) (2.17.0)\n",
            "Requirement already satisfied: language-tags in /usr/local/lib/python3.11/dist-packages (from csvw>=1.5.6->segments->phonemizer) (1.2.0)\n",
            "Requirement already satisfied: rdflib in /usr/local/lib/python3.11/dist-packages (from csvw>=1.5.6->segments->phonemizer) (7.1.3)\n",
            "Requirement already satisfied: colorama in /usr/local/lib/python3.11/dist-packages (from csvw>=1.5.6->segments->phonemizer) (0.4.6)\n",
            "Requirement already satisfied: jsonschema in /usr/local/lib/python3.11/dist-packages (from csvw>=1.5.6->segments->phonemizer) (4.23.0)\n",
            "Requirement already satisfied: jsonschema-specifications>=2023.03.6 in /usr/local/lib/python3.11/dist-packages (from jsonschema->csvw>=1.5.6->segments->phonemizer) (2024.10.1)\n",
            "Requirement already satisfied: referencing>=0.28.4 in /usr/local/lib/python3.11/dist-packages (from jsonschema->csvw>=1.5.6->segments->phonemizer) (0.36.2)\n",
            "Requirement already satisfied: rpds-py>=0.7.1 in /usr/local/lib/python3.11/dist-packages (from jsonschema->csvw>=1.5.6->segments->phonemizer) (0.23.0)\n",
            "Requirement already satisfied: six>=1.5 in /usr/local/lib/python3.11/dist-packages (from python-dateutil->csvw>=1.5.6->segments->phonemizer) (1.17.0)\n",
            "Requirement already satisfied: pyparsing<4,>=2.1.0 in /usr/local/lib/python3.11/dist-packages (from rdflib->csvw>=1.5.6->segments->phonemizer) (3.2.1)\n",
            "Reading package lists... Done\n",
            "Building dependency tree... Done\n",
            "Reading state information... Done\n",
            "espeak-ng is already the newest version (1.50+dfsg-10ubuntu0.1).\n",
            "0 upgraded, 0 newly installed, 0 to remove and 21 not upgraded.\n"
          ]
        }
      ]
    },
    {
      "cell_type": "code",
      "source": [
        "from phonemizer import phonemize\n",
        "from gtts import gTTS\n",
        "import os\n",
        "from IPython.display import Audio, display\n",
        "def transcribe(text, lang_code):\n",
        "    \"\"\"Transcribes the input text into IPA using phonemizer.\"\"\"\n",
        "    try:\n",
        "        ipa_transcription = phonemize(text, language=lang_code, backend=\"espeak\")\n",
        "        return ipa_transcription\n",
        "    except Exception as e:\n",
        "        return f\"Error: {str(e)}\"\n",
        "def play_audio(text, lang_code):\n",
        "    \"\"\"Plays the audio pronunciation of the input text.\"\"\"\n",
        "    try:\n",
        "        tts = gTTS(text, lang=lang_code[:2])  # Extract first two letters for TTS\n",
        "        audio_file = \"output.mp3\"\n",
        "        tts.save(audio_file)\n",
        "        display(Audio(audio_file, autoplay=True))  # Plays audio in Colab\n",
        "    except Exception as e:\n",
        "        print(f\"Error: {str(e)}\")\n",
        "# Get user input\n",
        "text = input(\"Enter text to transcribe: \")\n",
        "lang_code = input(\"Enter language code (e.g., 'en', 'fr', 'es'): \")\n",
        "\n",
        "# Play pronunciation\n",
        "play_audio(text, lang_code)\n"
      ],
      "metadata": {
        "colab": {
          "base_uri": "https://localhost:8080/",
          "height": 110
        },
        "id": "iXVhxDiOrUGl",
        "outputId": "20f5843a-17d0-40a3-fa40-cd6f5ddd94e0"
      },
      "execution_count": 29,
      "outputs": [
        {
          "name": "stdout",
          "output_type": "stream",
          "text": [
            "Enter text to transcribe: Hello World\n",
            "Enter language code (e.g., 'en', 'fr', 'es'): en\n"
          ]
        },
        {
          "output_type": "display_data",
          "data": {
            "text/plain": [
              "<IPython.lib.display.Audio object>"
            ],
            "text/html": [
              "\n",
              "                <audio  controls=\"controls\" autoplay=\"autoplay\">\n",
              "                    <source src=\"data:audio/mpeg;base64,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\" type=\"audio/mpeg\" />\n",
              "                    Your browser does not support the audio element.\n",
              "                </audio>\n",
              "              "
            ]
          },
          "metadata": {}
        }
      ]
    },
    {
      "cell_type": "code",
      "source": [
        "!apt-get install espeak-ng -y\n"
      ],
      "metadata": {
        "colab": {
          "base_uri": "https://localhost:8080/"
        },
        "id": "pEvoDfJ6ruZk",
        "outputId": "e2b74f4b-1ad2-434a-b012-8b4c2bf28a40"
      },
      "execution_count": 30,
      "outputs": [
        {
          "output_type": "stream",
          "name": "stdout",
          "text": [
            "Reading package lists... Done\n",
            "Building dependency tree... Done\n",
            "Reading state information... Done\n",
            "espeak-ng is already the newest version (1.50+dfsg-10ubuntu0.1).\n",
            "0 upgraded, 0 newly installed, 0 to remove and 21 not upgraded.\n"
          ]
        }
      ]
    },
    {
      "cell_type": "code",
      "source": [
        "import subprocess\n",
        "def transcribe_with_espeak(text, lang_code=\"en-us\"):\n",
        "    \"\"\"Transcribes text to IPA using espeak-ng.\"\"\"\n",
        "    try:\n",
        "        result = subprocess.run([\"espeak-ng\", \"-v\", lang_code, \"--ipa\", text], capture_output=True, text=True)\n",
        "        ipa_transcription = result.stdout.strip()\n",
        "        return ipa_transcription\n",
        "    except Exception as e:\n",
        "        return f\"Error: {str(e)}\"\n",
        "\n",
        "# Get user input\n",
        "text = input(\"Enter text to transcribe: \")\n",
        "lang_code = input(\"Enter language code (e.g., 'en-us', 'fr', 'es'): \")\n",
        "\n",
        "# Perform transcription\n",
        "ipa_result = transcribe_with_espeak(text, lang_code)\n",
        "print(f\"IPA Transcription: {ipa_result}\")\n"
      ],
      "metadata": {
        "colab": {
          "base_uri": "https://localhost:8080/"
        },
        "id": "rFThQ6QQrw5U",
        "outputId": "9785b4eb-94d4-4d39-dcc7-4367897c50d1"
      },
      "execution_count": 31,
      "outputs": [
        {
          "output_type": "stream",
          "name": "stdout",
          "text": [
            "Enter text to transcribe: Hello World\n",
            "Enter language code (e.g., 'en-us', 'fr', 'es'): en-us\n",
            "IPA Transcription: həlˈoʊ wˈɜːld\n"
          ]
        }
      ]
    },
    {
      "cell_type": "code",
      "source": [
        "!pip install jiwer phonemizer\n"
      ],
      "metadata": {
        "colab": {
          "base_uri": "https://localhost:8080/"
        },
        "id": "wpAy35Q2skwT",
        "outputId": "5c4106ed-511e-4d44-9397-b270a855865a"
      },
      "execution_count": 32,
      "outputs": [
        {
          "output_type": "stream",
          "name": "stdout",
          "text": [
            "Requirement already satisfied: jiwer in /usr/local/lib/python3.11/dist-packages (3.1.0)\n",
            "Requirement already satisfied: phonemizer in /usr/local/lib/python3.11/dist-packages (3.3.0)\n",
            "Requirement already satisfied: click>=8.1.8 in /usr/local/lib/python3.11/dist-packages (from jiwer) (8.1.8)\n",
            "Requirement already satisfied: rapidfuzz>=3.9.7 in /usr/local/lib/python3.11/dist-packages (from jiwer) (3.12.1)\n",
            "Requirement already satisfied: joblib in /usr/local/lib/python3.11/dist-packages (from phonemizer) (1.4.2)\n",
            "Requirement already satisfied: segments in /usr/local/lib/python3.11/dist-packages (from phonemizer) (2.3.0)\n",
            "Requirement already satisfied: attrs>=18.1 in /usr/local/lib/python3.11/dist-packages (from phonemizer) (25.1.0)\n",
            "Requirement already satisfied: dlinfo in /usr/local/lib/python3.11/dist-packages (from phonemizer) (2.0.0)\n",
            "Requirement already satisfied: typing-extensions in /usr/local/lib/python3.11/dist-packages (from phonemizer) (4.12.2)\n",
            "Requirement already satisfied: regex in /usr/local/lib/python3.11/dist-packages (from segments->phonemizer) (2024.11.6)\n",
            "Requirement already satisfied: csvw>=1.5.6 in /usr/local/lib/python3.11/dist-packages (from segments->phonemizer) (3.5.1)\n",
            "Requirement already satisfied: isodate in /usr/local/lib/python3.11/dist-packages (from csvw>=1.5.6->segments->phonemizer) (0.7.2)\n",
            "Requirement already satisfied: python-dateutil in /usr/local/lib/python3.11/dist-packages (from csvw>=1.5.6->segments->phonemizer) (2.9.0.post0)\n",
            "Requirement already satisfied: rfc3986<2 in /usr/local/lib/python3.11/dist-packages (from csvw>=1.5.6->segments->phonemizer) (1.5.0)\n",
            "Requirement already satisfied: uritemplate>=3.0.0 in /usr/local/lib/python3.11/dist-packages (from csvw>=1.5.6->segments->phonemizer) (4.1.1)\n",
            "Requirement already satisfied: babel in /usr/local/lib/python3.11/dist-packages (from csvw>=1.5.6->segments->phonemizer) (2.17.0)\n",
            "Requirement already satisfied: requests in /usr/local/lib/python3.11/dist-packages (from csvw>=1.5.6->segments->phonemizer) (2.32.3)\n",
            "Requirement already satisfied: language-tags in /usr/local/lib/python3.11/dist-packages (from csvw>=1.5.6->segments->phonemizer) (1.2.0)\n",
            "Requirement already satisfied: rdflib in /usr/local/lib/python3.11/dist-packages (from csvw>=1.5.6->segments->phonemizer) (7.1.3)\n",
            "Requirement already satisfied: colorama in /usr/local/lib/python3.11/dist-packages (from csvw>=1.5.6->segments->phonemizer) (0.4.6)\n",
            "Requirement already satisfied: jsonschema in /usr/local/lib/python3.11/dist-packages (from csvw>=1.5.6->segments->phonemizer) (4.23.0)\n",
            "Requirement already satisfied: jsonschema-specifications>=2023.03.6 in /usr/local/lib/python3.11/dist-packages (from jsonschema->csvw>=1.5.6->segments->phonemizer) (2024.10.1)\n",
            "Requirement already satisfied: referencing>=0.28.4 in /usr/local/lib/python3.11/dist-packages (from jsonschema->csvw>=1.5.6->segments->phonemizer) (0.36.2)\n",
            "Requirement already satisfied: rpds-py>=0.7.1 in /usr/local/lib/python3.11/dist-packages (from jsonschema->csvw>=1.5.6->segments->phonemizer) (0.23.0)\n",
            "Requirement already satisfied: six>=1.5 in /usr/local/lib/python3.11/dist-packages (from python-dateutil->csvw>=1.5.6->segments->phonemizer) (1.17.0)\n",
            "Requirement already satisfied: pyparsing<4,>=2.1.0 in /usr/local/lib/python3.11/dist-packages (from rdflib->csvw>=1.5.6->segments->phonemizer) (3.2.1)\n",
            "Requirement already satisfied: charset-normalizer<4,>=2 in /usr/local/lib/python3.11/dist-packages (from requests->csvw>=1.5.6->segments->phonemizer) (3.4.1)\n",
            "Requirement already satisfied: idna<4,>=2.5 in /usr/local/lib/python3.11/dist-packages (from requests->csvw>=1.5.6->segments->phonemizer) (3.10)\n",
            "Requirement already satisfied: urllib3<3,>=1.21.1 in /usr/local/lib/python3.11/dist-packages (from requests->csvw>=1.5.6->segments->phonemizer) (2.3.0)\n",
            "Requirement already satisfied: certifi>=2017.4.17 in /usr/local/lib/python3.11/dist-packages (from requests->csvw>=1.5.6->segments->phonemizer) (2025.1.31)\n"
          ]
        }
      ]
    },
    {
      "cell_type": "code",
      "source": [
        "from jiwer import wer, cer\n",
        "from phonemizer import phonemize\n",
        "def evaluate_transcription(predicted, reference):\n",
        "    word_error = wer(reference, predicted)\n",
        "    char_error = cer(reference, predicted)\n",
        "    print(f\"Word Error Rate (WER): {word_error:.2%}\")\n",
        "    print(f\"Character Error Rate (CER): {char_error:.2%}\")\n",
        "# Example Evaluation\n",
        "reference_ipa = \"həˈloʊ wɝld\"  # Correct IPA for \"Hello World\"\n",
        "predicted_ipa = \"həloʊ wɝld\"    # Example system output\n",
        "\n",
        "evaluate_transcription(predicted_ipa, reference_ipa)\n"
      ],
      "metadata": {
        "colab": {
          "base_uri": "https://localhost:8080/"
        },
        "id": "EOTSQkuIsmaa",
        "outputId": "b3f0cdaf-e05a-4bc6-c300-e882a9307235"
      },
      "execution_count": 33,
      "outputs": [
        {
          "output_type": "stream",
          "name": "stdout",
          "text": [
            "Word Error Rate (WER): 50.00%\n",
            "Character Error Rate (CER): 9.09%\n"
          ]
        }
      ]
    },
    {
      "cell_type": "code",
      "source": [
        "!pip install jiwer phonemizer matplotlib seaborn\n",
        "!apt-get install espeak-ng -y\n"
      ],
      "metadata": {
        "colab": {
          "base_uri": "https://localhost:8080/"
        },
        "id": "zDvweY7utD7o",
        "outputId": "6f52045e-9d2e-4a54-d36e-de432aa9b958"
      },
      "execution_count": 34,
      "outputs": [
        {
          "output_type": "stream",
          "name": "stdout",
          "text": [
            "Requirement already satisfied: jiwer in /usr/local/lib/python3.11/dist-packages (3.1.0)\n",
            "Requirement already satisfied: phonemizer in /usr/local/lib/python3.11/dist-packages (3.3.0)\n",
            "Requirement already satisfied: matplotlib in /usr/local/lib/python3.11/dist-packages (3.10.0)\n",
            "Requirement already satisfied: seaborn in /usr/local/lib/python3.11/dist-packages (0.13.2)\n",
            "Requirement already satisfied: click>=8.1.8 in /usr/local/lib/python3.11/dist-packages (from jiwer) (8.1.8)\n",
            "Requirement already satisfied: rapidfuzz>=3.9.7 in /usr/local/lib/python3.11/dist-packages (from jiwer) (3.12.1)\n",
            "Requirement already satisfied: joblib in /usr/local/lib/python3.11/dist-packages (from phonemizer) (1.4.2)\n",
            "Requirement already satisfied: segments in /usr/local/lib/python3.11/dist-packages (from phonemizer) (2.3.0)\n",
            "Requirement already satisfied: attrs>=18.1 in /usr/local/lib/python3.11/dist-packages (from phonemizer) (25.1.0)\n",
            "Requirement already satisfied: dlinfo in /usr/local/lib/python3.11/dist-packages (from phonemizer) (2.0.0)\n",
            "Requirement already satisfied: typing-extensions in /usr/local/lib/python3.11/dist-packages (from phonemizer) (4.12.2)\n",
            "Requirement already satisfied: contourpy>=1.0.1 in /usr/local/lib/python3.11/dist-packages (from matplotlib) (1.3.1)\n",
            "Requirement already satisfied: cycler>=0.10 in /usr/local/lib/python3.11/dist-packages (from matplotlib) (0.12.1)\n",
            "Requirement already satisfied: fonttools>=4.22.0 in /usr/local/lib/python3.11/dist-packages (from matplotlib) (4.56.0)\n",
            "Requirement already satisfied: kiwisolver>=1.3.1 in /usr/local/lib/python3.11/dist-packages (from matplotlib) (1.4.8)\n",
            "Requirement already satisfied: numpy>=1.23 in /usr/local/lib/python3.11/dist-packages (from matplotlib) (2.2.3)\n",
            "Requirement already satisfied: packaging>=20.0 in /usr/local/lib/python3.11/dist-packages (from matplotlib) (24.2)\n",
            "Requirement already satisfied: pillow>=8 in /usr/local/lib/python3.11/dist-packages (from matplotlib) (11.1.0)\n",
            "Requirement already satisfied: pyparsing>=2.3.1 in /usr/local/lib/python3.11/dist-packages (from matplotlib) (3.2.1)\n",
            "Requirement already satisfied: python-dateutil>=2.7 in /usr/local/lib/python3.11/dist-packages (from matplotlib) (2.9.0.post0)\n",
            "Requirement already satisfied: pandas>=1.2 in /usr/local/lib/python3.11/dist-packages (from seaborn) (2.2.3)\n",
            "Requirement already satisfied: pytz>=2020.1 in /usr/local/lib/python3.11/dist-packages (from pandas>=1.2->seaborn) (2025.1)\n",
            "Requirement already satisfied: tzdata>=2022.7 in /usr/local/lib/python3.11/dist-packages (from pandas>=1.2->seaborn) (2025.1)\n",
            "Requirement already satisfied: six>=1.5 in /usr/local/lib/python3.11/dist-packages (from python-dateutil>=2.7->matplotlib) (1.17.0)\n",
            "Requirement already satisfied: regex in /usr/local/lib/python3.11/dist-packages (from segments->phonemizer) (2024.11.6)\n",
            "Requirement already satisfied: csvw>=1.5.6 in /usr/local/lib/python3.11/dist-packages (from segments->phonemizer) (3.5.1)\n",
            "Requirement already satisfied: isodate in /usr/local/lib/python3.11/dist-packages (from csvw>=1.5.6->segments->phonemizer) (0.7.2)\n",
            "Requirement already satisfied: rfc3986<2 in /usr/local/lib/python3.11/dist-packages (from csvw>=1.5.6->segments->phonemizer) (1.5.0)\n",
            "Requirement already satisfied: uritemplate>=3.0.0 in /usr/local/lib/python3.11/dist-packages (from csvw>=1.5.6->segments->phonemizer) (4.1.1)\n",
            "Requirement already satisfied: babel in /usr/local/lib/python3.11/dist-packages (from csvw>=1.5.6->segments->phonemizer) (2.17.0)\n",
            "Requirement already satisfied: requests in /usr/local/lib/python3.11/dist-packages (from csvw>=1.5.6->segments->phonemizer) (2.32.3)\n",
            "Requirement already satisfied: language-tags in /usr/local/lib/python3.11/dist-packages (from csvw>=1.5.6->segments->phonemizer) (1.2.0)\n",
            "Requirement already satisfied: rdflib in /usr/local/lib/python3.11/dist-packages (from csvw>=1.5.6->segments->phonemizer) (7.1.3)\n",
            "Requirement already satisfied: colorama in /usr/local/lib/python3.11/dist-packages (from csvw>=1.5.6->segments->phonemizer) (0.4.6)\n",
            "Requirement already satisfied: jsonschema in /usr/local/lib/python3.11/dist-packages (from csvw>=1.5.6->segments->phonemizer) (4.23.0)\n",
            "Requirement already satisfied: jsonschema-specifications>=2023.03.6 in /usr/local/lib/python3.11/dist-packages (from jsonschema->csvw>=1.5.6->segments->phonemizer) (2024.10.1)\n",
            "Requirement already satisfied: referencing>=0.28.4 in /usr/local/lib/python3.11/dist-packages (from jsonschema->csvw>=1.5.6->segments->phonemizer) (0.36.2)\n",
            "Requirement already satisfied: rpds-py>=0.7.1 in /usr/local/lib/python3.11/dist-packages (from jsonschema->csvw>=1.5.6->segments->phonemizer) (0.23.0)\n",
            "Requirement already satisfied: charset-normalizer<4,>=2 in /usr/local/lib/python3.11/dist-packages (from requests->csvw>=1.5.6->segments->phonemizer) (3.4.1)\n",
            "Requirement already satisfied: idna<4,>=2.5 in /usr/local/lib/python3.11/dist-packages (from requests->csvw>=1.5.6->segments->phonemizer) (3.10)\n",
            "Requirement already satisfied: urllib3<3,>=1.21.1 in /usr/local/lib/python3.11/dist-packages (from requests->csvw>=1.5.6->segments->phonemizer) (2.3.0)\n",
            "Requirement already satisfied: certifi>=2017.4.17 in /usr/local/lib/python3.11/dist-packages (from requests->csvw>=1.5.6->segments->phonemizer) (2025.1.31)\n",
            "Reading package lists... Done\n",
            "Building dependency tree... Done\n",
            "Reading state information... Done\n",
            "espeak-ng is already the newest version (1.50+dfsg-10ubuntu0.1).\n",
            "0 upgraded, 0 newly installed, 0 to remove and 21 not upgraded.\n"
          ]
        }
      ]
    },
    {
      "cell_type": "code",
      "source": [
        "import subprocess\n",
        "import matplotlib.pyplot as plt\n",
        "import seaborn as sns\n",
        "from jiwer import wer, cer\n",
        "\n",
        "def transcribe_with_espeak(text, lang_code=\"en-us\"):\n",
        "    \"\"\"Transcribes text to IPA using espeak-ng.\"\"\"\n",
        "    try:\n",
        "        result = subprocess.run([\"espeak-ng\", \"-v\", lang_code, \"--ipa\", text], capture_output=True, text=True)\n",
        "        ipa_transcription = result.stdout.strip()\n",
        "        return ipa_transcription\n",
        "    except Exception as e:\n",
        "        return f\"Error: {str(e)}\"\n",
        "\n",
        "def evaluate_transcription(predicted, reference):\n",
        "    \"\"\"Computes Word Error Rate (WER) and Character Error Rate (CER).\"\"\"\n",
        "    word_error = wer(reference, predicted)\n",
        "    char_error = cer(reference, predicted)\n",
        "\n",
        "    print(f\"Word Error Rate (WER): {word_error:.2%}\")\n",
        "    print(f\"Character Error Rate (CER): {char_error:.2%}\")\n",
        "\n",
        "    return word_error, char_error\n",
        "\n",
        "def plot_metrics(wer_score, cer_score):\n",
        "    \"\"\"Plots WER and CER using a bar chart.\"\"\"\n",
        "    metrics = [\"WER\", \"CER\"]\n",
        "    values = [wer_score * 100, cer_score * 100]  # Convert to percentage\n",
        "\n",
        "    plt.figure(figsize=(6, 4))\n",
        "    sns.barplot(x=metrics, y=values, palette=\"coolwarm\")\n",
        "    plt.ylim(0, 100)\n",
        "    plt.ylabel(\"Error Rate (%)\")\n",
        "    plt.title(\"Transcription Accuracy Metrics\")\n",
        "    plt.show()\n",
        "\n",
        "# Example Input\n",
        "text = \"Hello World\"\n",
        "reference_ipa = \"həˈloʊ wɝld\"  # Correct IPA for \"Hello World\"\n",
        "\n",
        "# Generate IPA transcription\n",
        "predicted_ipa = transcribe_with_espeak(text, \"en-us\")\n",
        "print(f\"Predicted IPA: {predicted_ipa}\")\n",
        "\n",
        "# Evaluate transcription\n",
        "wer_score, cer_score = evaluate_transcription(predicted_ipa, reference_ipa)\n",
        "\n",
        "# Plot accuracy metrics\n",
        "plot_metrics(wer_score, cer_score)\n"
      ],
      "metadata": {
        "colab": {
          "base_uri": "https://localhost:8080/",
          "height": 530
        },
        "id": "h1OD4H53tFz-",
        "outputId": "19020f5b-8eff-4143-a6d4-897315d98698"
      },
      "execution_count": 35,
      "outputs": [
        {
          "output_type": "stream",
          "name": "stdout",
          "text": [
            "Predicted IPA: həlˈoʊ wˈɜːld\n",
            "Word Error Rate (WER): 100.00%\n",
            "Character Error Rate (CER): 45.45%\n"
          ]
        },
        {
          "output_type": "stream",
          "name": "stderr",
          "text": [
            "<ipython-input-35-b30c072e6da6>:31: FutureWarning: \n",
            "\n",
            "Passing `palette` without assigning `hue` is deprecated and will be removed in v0.14.0. Assign the `x` variable to `hue` and set `legend=False` for the same effect.\n",
            "\n",
            "  sns.barplot(x=metrics, y=values, palette=\"coolwarm\")\n"
          ]
        },
        {
          "output_type": "display_data",
          "data": {
            "text/plain": [
              "<Figure size 600x400 with 1 Axes>"
            ],
            "image/png": "[encoded data removed]"
          },
          "metadata": {}
        }
      ]
    },
    {
      "cell_type": "code",
      "source": [
        "!pip install gradio jiwer phonemizer matplotlib seaborn\n",
        "!apt-get install espeak-ng -y\n"
      ],
      "metadata": {
        "colab": {
          "base_uri": "https://localhost:8080/"
        },
        "id": "0uKGx8g9tJPx",
        "outputId": "35a4117b-5b30-4204-b5ff-13916dfafa95"
      },
      "execution_count": 36,
      "outputs": [
        {
          "output_type": "stream",
          "name": "stdout",
          "text": [
            "Requirement already satisfied: gradio in /usr/local/lib/python3.11/dist-packages (5.17.0)\n",
            "Requirement already satisfied: jiwer in /usr/local/lib/python3.11/dist-packages (3.1.0)\n",
            "Requirement already satisfied: phonemizer in /usr/local/lib/python3.11/dist-packages (3.3.0)\n",
            "Requirement already satisfied: matplotlib in /usr/local/lib/python3.11/dist-packages (3.10.0)\n",
            "Requirement already satisfied: seaborn in /usr/local/lib/python3.11/dist-packages (0.13.2)\n",
            "Requirement already satisfied: aiofiles<24.0,>=22.0 in /usr/local/lib/python3.11/dist-packages (from gradio) (23.2.1)\n",
            "Requirement already satisfied: anyio<5.0,>=3.0 in /usr/local/lib/python3.11/dist-packages (from gradio) (4.8.0)\n",
            "Requirement already satisfied: fastapi<1.0,>=0.115.2 in /usr/local/lib/python3.11/dist-packages (from gradio) (0.115.8)\n",
            "Requirement already satisfied: ffmpy in /usr/local/lib/python3.11/dist-packages (from gradio) (0.5.0)\n",
            "Requirement already satisfied: gradio-client==1.7.1 in /usr/local/lib/python3.11/dist-packages (from gradio) (1.7.1)\n",
            "Requirement already satisfied: httpx>=0.24.1 in /usr/local/lib/python3.11/dist-packages (from gradio) (0.28.1)\n",
            "Requirement already satisfied: huggingface-hub>=0.28.1 in /usr/local/lib/python3.11/dist-packages (from gradio) (0.29.1)\n",
            "Requirement already satisfied: jinja2<4.0 in /usr/local/lib/python3.11/dist-packages (from gradio) (3.1.5)\n",
            "Requirement already satisfied: markupsafe~=2.0 in /usr/local/lib/python3.11/dist-packages (from gradio) (2.1.5)\n",
            "Requirement already satisfied: numpy<3.0,>=1.0 in /usr/local/lib/python3.11/dist-packages (from gradio) (2.2.3)\n",
            "Requirement already satisfied: orjson~=3.0 in /usr/local/lib/python3.11/dist-packages (from gradio) (3.10.15)\n",
            "Requirement already satisfied: packaging in /usr/local/lib/python3.11/dist-packages (from gradio) (24.2)\n",
            "Requirement already satisfied: pandas<3.0,>=1.0 in /usr/local/lib/python3.11/dist-packages (from gradio) (2.2.3)\n",
            "Requirement already satisfied: pillow<12.0,>=8.0 in /usr/local/lib/python3.11/dist-packages (from gradio) (11.1.0)\n",
            "Requirement already satisfied: pydantic>=2.0 in /usr/local/lib/python3.11/dist-packages (from gradio) (2.10.6)\n",
            "Requirement already satisfied: pydub in /usr/local/lib/python3.11/dist-packages (from gradio) (0.25.1)\n",
            "Requirement already satisfied: python-multipart>=0.0.18 in /usr/local/lib/python3.11/dist-packages (from gradio) (0.0.20)\n",
            "Requirement already satisfied: pyyaml<7.0,>=5.0 in /usr/local/lib/python3.11/dist-packages (from gradio) (6.0.2)\n",
            "Requirement already satisfied: ruff>=0.9.3 in /usr/local/lib/python3.11/dist-packages (from gradio) (0.9.7)\n",
            "Requirement already satisfied: safehttpx<0.2.0,>=0.1.6 in /usr/local/lib/python3.11/dist-packages (from gradio) (0.1.6)\n",
            "Requirement already satisfied: semantic-version~=2.0 in /usr/local/lib/python3.11/dist-packages (from gradio) (2.10.0)\n",
            "Requirement already satisfied: starlette<1.0,>=0.40.0 in /usr/local/lib/python3.11/dist-packages (from gradio) (0.45.3)\n",
            "Requirement already satisfied: tomlkit<0.14.0,>=0.12.0 in /usr/local/lib/python3.11/dist-packages (from gradio) (0.13.2)\n",
            "Requirement already satisfied: typer<1.0,>=0.12 in /usr/local/lib/python3.11/dist-packages (from gradio) (0.15.1)\n",
            "Requirement already satisfied: typing-extensions~=4.0 in /usr/local/lib/python3.11/dist-packages (from gradio) (4.12.2)\n",
            "Requirement already satisfied: uvicorn>=0.14.0 in /usr/local/lib/python3.11/dist-packages (from gradio) (0.34.0)\n",
            "Requirement already satisfied: fsspec in /usr/local/lib/python3.11/dist-packages (from gradio-client==1.7.1->gradio) (2025.2.0)\n",
            "Requirement already satisfied: websockets<15.0,>=10.0 in /usr/local/lib/python3.11/dist-packages (from gradio-client==1.7.1->gradio) (14.2)\n",
            "Requirement already satisfied: click>=8.1.8 in /usr/local/lib/python3.11/dist-packages (from jiwer) (8.1.8)\n",
            "Requirement already satisfied: rapidfuzz>=3.9.7 in /usr/local/lib/python3.11/dist-packages (from jiwer) (3.12.1)\n",
            "Requirement already satisfied: joblib in /usr/local/lib/python3.11/dist-packages (from phonemizer) (1.4.2)\n",
            "Requirement already satisfied: segments in /usr/local/lib/python3.11/dist-packages (from phonemizer) (2.3.0)\n",
            "Requirement already satisfied: attrs>=18.1 in /usr/local/lib/python3.11/dist-packages (from phonemizer) (25.1.0)\n",
            "Requirement already satisfied: dlinfo in /usr/local/lib/python3.11/dist-packages (from phonemizer) (2.0.0)\n",
            "Requirement already satisfied: contourpy>=1.0.1 in /usr/local/lib/python3.11/dist-packages (from matplotlib) (1.3.1)\n",
            "Requirement already satisfied: cycler>=0.10 in /usr/local/lib/python3.11/dist-packages (from matplotlib) (0.12.1)\n",
            "Requirement already satisfied: fonttools>=4.22.0 in /usr/local/lib/python3.11/dist-packages (from matplotlib) (4.56.0)\n",
            "Requirement already satisfied: kiwisolver>=1.3.1 in /usr/local/lib/python3.11/dist-packages (from matplotlib) (1.4.8)\n",
            "Requirement already satisfied: pyparsing>=2.3.1 in /usr/local/lib/python3.11/dist-packages (from matplotlib) (3.2.1)\n",
            "Requirement already satisfied: python-dateutil>=2.7 in /usr/local/lib/python3.11/dist-packages (from matplotlib) (2.9.0.post0)\n",
            "Requirement already satisfied: idna>=2.8 in /usr/local/lib/python3.11/dist-packages (from anyio<5.0,>=3.0->gradio) (3.10)\n",
            "Requirement already satisfied: sniffio>=1.1 in /usr/local/lib/python3.11/dist-packages (from anyio<5.0,>=3.0->gradio) (1.3.1)\n",
            "Requirement already satisfied: certifi in /usr/local/lib/python3.11/dist-packages (from httpx>=0.24.1->gradio) (2025.1.31)\n",
            "Requirement already satisfied: httpcore==1.* in /usr/local/lib/python3.11/dist-packages (from httpx>=0.24.1->gradio) (1.0.7)\n",
            "Requirement already satisfied: h11<0.15,>=0.13 in /usr/local/lib/python3.11/dist-packages (from httpcore==1.*->httpx>=0.24.1->gradio) (0.14.0)\n",
            "Requirement already satisfied: filelock in /usr/local/lib/python3.11/dist-packages (from huggingface-hub>=0.28.1->gradio) (3.17.0)\n",
            "Requirement already satisfied: requests in /usr/local/lib/python3.11/dist-packages (from huggingface-hub>=0.28.1->gradio) (2.32.3)\n",
            "Requirement already satisfied: tqdm>=4.42.1 in /usr/local/lib/python3.11/dist-packages (from huggingface-hub>=0.28.1->gradio) (4.67.1)\n",
            "Requirement already satisfied: pytz>=2020.1 in /usr/local/lib/python3.11/dist-packages (from pandas<3.0,>=1.0->gradio) (2025.1)\n",
            "Requirement already satisfied: tzdata>=2022.7 in /usr/local/lib/python3.11/dist-packages (from pandas<3.0,>=1.0->gradio) (2025.1)\n",
            "Requirement already satisfied: annotated-types>=0.6.0 in /usr/local/lib/python3.11/dist-packages (from pydantic>=2.0->gradio) (0.7.0)\n",
            "Requirement already satisfied: pydantic-core==2.27.2 in /usr/local/lib/python3.11/dist-packages (from pydantic>=2.0->gradio) (2.27.2)\n",
            "Requirement already satisfied: six>=1.5 in /usr/local/lib/python3.11/dist-packages (from python-dateutil>=2.7->matplotlib) (1.17.0)\n",
            "Requirement already satisfied: shellingham>=1.3.0 in /usr/local/lib/python3.11/dist-packages (from typer<1.0,>=0.12->gradio) (1.5.4)\n",
            "Requirement already satisfied: rich>=10.11.0 in /usr/local/lib/python3.11/dist-packages (from typer<1.0,>=0.12->gradio) (13.9.4)\n",
            "Requirement already satisfied: regex in /usr/local/lib/python3.11/dist-packages (from segments->phonemizer) (2024.11.6)\n",
            "Requirement already satisfied: csvw>=1.5.6 in /usr/local/lib/python3.11/dist-packages (from segments->phonemizer) (3.5.1)\n",
            "Requirement already satisfied: isodate in /usr/local/lib/python3.11/dist-packages (from csvw>=1.5.6->segments->phonemizer) (0.7.2)\n",
            "Requirement already satisfied: rfc3986<2 in /usr/local/lib/python3.11/dist-packages (from csvw>=1.5.6->segments->phonemizer) (1.5.0)\n",
            "Requirement already satisfied: uritemplate>=3.0.0 in /usr/local/lib/python3.11/dist-packages (from csvw>=1.5.6->segments->phonemizer) (4.1.1)\n",
            "Requirement already satisfied: babel in /usr/local/lib/python3.11/dist-packages (from csvw>=1.5.6->segments->phonemizer) (2.17.0)\n",
            "Requirement already satisfied: language-tags in /usr/local/lib/python3.11/dist-packages (from csvw>=1.5.6->segments->phonemizer) (1.2.0)\n",
            "Requirement already satisfied: rdflib in /usr/local/lib/python3.11/dist-packages (from csvw>=1.5.6->segments->phonemizer) (7.1.3)\n",
            "Requirement already satisfied: colorama in /usr/local/lib/python3.11/dist-packages (from csvw>=1.5.6->segments->phonemizer) (0.4.6)\n",
            "Requirement already satisfied: jsonschema in /usr/local/lib/python3.11/dist-packages (from csvw>=1.5.6->segments->phonemizer) (4.23.0)\n",
            "Requirement already satisfied: markdown-it-py>=2.2.0 in /usr/local/lib/python3.11/dist-packages (from rich>=10.11.0->typer<1.0,>=0.12->gradio) (3.0.0)\n",
            "Requirement already satisfied: pygments<3.0.0,>=2.13.0 in /usr/local/lib/python3.11/dist-packages (from rich>=10.11.0->typer<1.0,>=0.12->gradio) (2.19.1)\n",
            "Requirement already satisfied: charset-normalizer<4,>=2 in /usr/local/lib/python3.11/dist-packages (from requests->huggingface-hub>=0.28.1->gradio) (3.4.1)\n",
            "Requirement already satisfied: urllib3<3,>=1.21.1 in /usr/local/lib/python3.11/dist-packages (from requests->huggingface-hub>=0.28.1->gradio) (2.3.0)\n",
            "Requirement already satisfied: mdurl~=0.1 in /usr/local/lib/python3.11/dist-packages (from markdown-it-py>=2.2.0->rich>=10.11.0->typer<1.0,>=0.12->gradio) (0.1.2)\n",
            "Requirement already satisfied: jsonschema-specifications>=2023.03.6 in /usr/local/lib/python3.11/dist-packages (from jsonschema->csvw>=1.5.6->segments->phonemizer) (2024.10.1)\n",
            "Requirement already satisfied: referencing>=0.28.4 in /usr/local/lib/python3.11/dist-packages (from jsonschema->csvw>=1.5.6->segments->phonemizer) (0.36.2)\n",
            "Requirement already satisfied: rpds-py>=0.7.1 in /usr/local/lib/python3.11/dist-packages (from jsonschema->csvw>=1.5.6->segments->phonemizer) (0.23.0)\n",
            "Reading package lists... Done\n",
            "Building dependency tree... Done\n",
            "Reading state information... Done\n",
            "espeak-ng is already the newest version (1.50+dfsg-10ubuntu0.1).\n",
            "0 upgraded, 0 newly installed, 0 to remove and 21 not upgraded.\n"
          ]
        }
      ]
    },
    {
      "cell_type": "code",
      "source": [
        "import gradio as gr\n",
        "import epitran\n",
        "import subprocess\n",
        "import numpy as np\n",
        "from gtts import gTTS\n",
        "from jiwer import wer, cer\n",
        "import os\n",
        "\n",
        "# Function to convert text to IPA using Epitran\n",
        "def convert_to_ipa(text, lang_code):\n",
        "    try:\n",
        "        epi = epitran.Epitran(lang_code)\n",
        "        ipa_transcription = epi.transliterate(text)\n",
        "        if not ipa_transcription:\n",
        "            return \"Error: IPA transcription failed!\"\n",
        "        return ipa_transcription\n",
        "    except Exception as e:\n",
        "        return f\"Error: {str(e)}\"\n",
        "\n",
        "# Function to convert text to IPA using Espeak-NG\n",
        "def transcribe_with_espeak(text, lang_code=\"en-us\"):\n",
        "    try:\n",
        "        result = subprocess.run([\"espeak-ng\", \"-v\", lang_code, \"--ipa\", text], capture_output=True, text=True)\n",
        "        ipa_transcription = result.stdout.strip()\n",
        "        return ipa_transcription\n",
        "    except Exception as e:\n",
        "        return f\"Error: {str(e)}\"\n",
        "\n",
        "# Function to generate pronunciation audio\n",
        "def generate_audio(text, lang_code):\n",
        "    try:\n",
        "        tts = gTTS(text, lang=lang_code.split(\"-\")[0])  # Extract base language\n",
        "        audio_path = \"output.mp3\"\n",
        "        tts.save(audio_path)\n",
        "        return audio_path\n",
        "    except Exception as e:\n",
        "        return None\n",
        "\n",
        "# Function to compute WER & CER\n",
        "def calculate_error_rates(predicted_ipa, reference_ipa):\n",
        "    if not reference_ipa:\n",
        "        return None, None\n",
        "    wer_score = wer(reference_ipa, predicted_ipa)\n",
        "    cer_score = cer(reference_ipa, predicted_ipa)\n",
        "    return round(wer_score, 4), round(cer_score, 4)\n",
        "\n",
        "# Gradio Interface\n",
        "def transcribe_and_play(text, lang_code, reference_ipa):\n",
        "    ipa_transcription = transcribe_with_espeak(text, lang_code)\n",
        "    if \"Error\" in ipa_transcription:\n",
        "        return ipa_transcription, None, None, None\n",
        "\n",
        "    wer_score, cer_score = calculate_error_rates(ipa_transcription, reference_ipa)\n",
        "    audio_path = generate_audio(text, lang_code)\n",
        "\n",
        "    return ipa_transcription, wer_score, cer_score, audio_path\n",
        "\n",
        "# Gradio UI\n",
        "with gr.Blocks() as app:\n",
        "    gr.Markdown(\"## 🎤 IPA Phonetic Transcription & Pronunciation\")\n",
        "    with gr.Row():\n",
        "        with gr.Column():\n",
        "            text_input = gr.Textbox(label=\"Enter Text\")\n",
        "            lang_code_input = gr.Textbox(label=\"Language Code (e.g., en-us, fr, es)\", value=\"en-us\")\n",
        "            reference_ipa_input = gr.Textbox(label=\"Reference IPA (optional, for accuracy evaluation)\")\n",
        "            submit_btn = gr.Button(\"Submit\")\n",
        "\n",
        "        with gr.Column():\n",
        "            ipa_output = gr.Textbox(label=\"IPA Transcription\", interactive=False)\n",
        "            wer_output = gr.Number(label=\"Word Error Rate (WER)\", precision=4)\n",
        "            cer_output = gr.Number(label=\"Character Error Rate (CER)\", precision=4)\n",
        "            audio_output = gr.Audio(label=\"Pronunciation\")\n",
        "\n",
        "    submit_btn.click(\n",
        "        transcribe_and_play,\n",
        "        inputs=[text_input, lang_code_input, reference_ipa_input],\n",
        "        outputs=[ipa_output, wer_output, cer_output, audio_output]\n",
        "    )\n",
        "\n",
        "app.launch(share=True)"
      ],
      "metadata": {
        "colab": {
          "base_uri": "https://localhost:8080/",
          "height": 611
        },
        "id": "Mvqqn9gXEbgr",
        "outputId": "ec5715ed-6d4c-4753-fc40-3cf3367c398f"
      },
      "execution_count": 38,
      "outputs": [
        {
          "output_type": "stream",
          "name": "stdout",
          "text": [
            "Colab notebook detected. To show errors in colab notebook, set debug=True in launch()\n",
            "* Running on public URL: https://23e3bccc502ccdd713.gradio.live\n",
            "\n",
            "This share link expires in 72 hours. For free permanent hosting and GPU upgrades, run `gradio deploy` from the terminal in the working directory to deploy to Hugging Face Spaces (https://huggingface.co/spaces)\n"
          ]
        },
        {
          "output_type": "display_data",
          "data": {
            "text/plain": [
              "<IPython.core.display.HTML object>"
            ],
            "text/html": [
              "<div><iframe src=\"https://23e3bccc502ccdd713.gradio.live\" width=\"100%\" height=\"500\" allow=\"autoplay; camera; microphone; clipboard-read; clipboard-write;\" frameborder=\"0\" allowfullscreen></iframe></div>"
            ]
          },
          "metadata": {}
        },
        {
          "output_type": "execute_result",
          "data": {
            "text/plain": []
          },
          "metadata": {},
          "execution_count": 38
        }
      ]
    },
    {
      "cell_type": "code",
      "source": [
        "import gradio as gr\n",
        "import epitran\n",
        "import subprocess\n",
        "import os\n",
        "from pyngrok import ngrok\n",
        "from gtts import gTTS\n",
        "from jiwer import wer, cer\n",
        "import socket\n",
        "\n",
        "# Function to convert text to IPA using Epitran\n",
        "def convert_to_ipa(text, lang_code):\n",
        "    try:\n",
        "        epi = epitran.Epitran(lang_code)\n",
        "        ipa_transcription = epi.transliterate(text)\n",
        "        return ipa_transcription if ipa_transcription else \"Error: IPA transcription failed!\"\n",
        "    except Exception as e:\n",
        "        return f\"Error: {str(e)}\"\n",
        "\n",
        "# Function to convert text to IPA using Espeak-NG\n",
        "def transcribe_with_espeak(text, lang_code=\"en-us\"):\n",
        "    try:\n",
        "        result = subprocess.run([\"espeak-ng\", \"-v\", lang_code, \"--ipa\", text], capture_output=True, text=True)\n",
        "        return result.stdout.strip()\n",
        "    except Exception as e:\n",
        "        return f\"Error: {str(e)}\"\n",
        "\n",
        "# Function to generate pronunciation audio\n",
        "def generate_audio(text, lang_code):\n",
        "    try:\n",
        "        tts = gTTS(text, lang=lang_code.split(\"-\")[0])  # Extract base language\n",
        "        audio_path = \"output.mp3\"\n",
        "        tts.save(audio_path)\n",
        "        return audio_path\n",
        "    except Exception as e:\n",
        "        return None\n",
        "\n",
        "# Function to compute WER & CER\n",
        "def calculate_error_rates(predicted_ipa, reference_ipa):\n",
        "    if not reference_ipa:\n",
        "        return None, None\n",
        "    wer_score = wer(reference_ipa, predicted_ipa)\n",
        "    cer_score = cer(reference_ipa, predicted_ipa)\n",
        "    return round(wer_score, 4), round(cer_score, 4)\n",
        "\n",
        "# Gradio Interface\n",
        "def transcribe_and_play(text, lang_code, reference_ipa):\n",
        "    ipa_transcription = transcribe_with_espeak(text, lang_code)\n",
        "    if \"Error\" in ipa_transcription:\n",
        "        return ipa_transcription, None, None, None\n",
        "\n",
        "    wer_score, cer_score = calculate_error_rates(ipa_transcription, reference_ipa)\n",
        "    audio_path = generate_audio(text, lang_code)\n",
        "\n",
        "    return ipa_transcription, wer_score, cer_score, audio_path\n",
        "\n",
        "# Gradio UI\n",
        "with gr.Blocks() as app:\n",
        "    gr.Markdown(\"## 🎤 IPA Phonetic Transcription & Pronunciation\")\n",
        "    with gr.Row():\n",
        "        with gr.Column():\n",
        "            text_input = gr.Textbox(label=\"Enter Text\")\n",
        "            lang_code_input = gr.Textbox(label=\"Language Code (e.g., en-us, fr, es)\", value=\"en-us\")\n",
        "            reference_ipa_input = gr.Textbox(label=\"Reference IPA (optional, for accuracy evaluation)\")\n",
        "            submit_btn = gr.Button(\"Submit\")\n",
        "\n",
        "        with gr.Column():\n",
        "            ipa_output = gr.Textbox(label=\"IPA Transcription\", interactive=False)\n",
        "            wer_output = gr.Number(label=\"Word Error Rate (WER)\", precision=4)\n",
        "            cer_output = gr.Number(label=\"Character Error Rate (CER)\", precision=4)\n",
        "            audio_output = gr.Audio(label=\"Pronunciation\")\n",
        "\n",
        "    submit_btn.click(\n",
        "        transcribe_and_play,\n",
        "        inputs=[text_input, lang_code_input, reference_ipa_input],\n",
        "        outputs=[ipa_output, wer_output, cer_output, audio_output]\n",
        "    )\n",
        "\n",
        "# Find an available port dynamically\n",
        "def find_free_port():\n",
        "    with socket.socket(socket.AF_INET, socket.SOCK_STREAM) as s:\n",
        "        s.bind((\"0.0.0.0\", 0))\n",
        "        return s.getsockname()[1]\n",
        "\n",
        "# Start Ngrok and launch Gradio\n",
        "if __name__ == \"__main__\":\n",
        "    try:\n",
        "        port = find_free_port()  # Get a free port\n",
        "        print(f\"Starting server on port {port}\")\n",
        "\n",
        "        # Start Ngrok\n",
        "        tunnel = ngrok.connect(port, \"http\", bind_tls=True)\n",
        "        public_url = tunnel.public_url\n",
        "        print(f\"Public URL: {public_url}\")\n",
        "\n",
        "        # Launch Gradio\n",
        "        app.launch(server_name=\"0.0.0.0\", server_port=port, share=False)\n",
        "\n",
        "    except Exception as e:\n",
        "        print(f\"Error starting server: {str(e)}\")\n"
      ],
      "metadata": {
        "colab": {
          "base_uri": "https://localhost:8080/",
          "height": 651
        },
        "id": "L07-_geYMA2C",
        "outputId": "76c9c107-6acd-4231-85b7-102b1b8d38d3"
      },
      "execution_count": 43,
      "outputs": [
        {
          "output_type": "stream",
          "name": "stdout",
          "text": [
            "Starting server on port 52563\n",
            "Public URL: https://6b41-35-229-57-37.ngrok-free.app\n",
            "Colab notebook detected. To show errors in colab notebook, set debug=True in launch()\n",
            "Note: opening Chrome Inspector may crash demo inside Colab notebooks.\n",
            "\n",
            "To create a public link, set `share=True` in `launch()`.\n"
          ]
        },
        {
          "output_type": "display_data",
          "data": {
            "text/plain": [
              "<IPython.core.display.Javascript object>"
            ],
            "application/javascript": [
              "(async (port, path, width, height, cache, element) => {\n",
              "                        if (!google.colab.kernel.accessAllowed && !cache) {\n",
              "                            return;\n",
              "                        }\n",
              "                        element.appendChild(document.createTextNode(''));\n",
              "                        const url = await google.colab.kernel.proxyPort(port, {cache});\n",
              "\n",
              "                        const external_link = document.createElement('div');\n",
              "                        external_link.innerHTML = `\n",
              "                            <div style=\"font-family: monospace; margin-bottom: 0.5rem\">\n",
              "                                Running on <a href=${new URL(path, url).toString()} target=\"_blank\">\n",
              "                                    https://localhost:${port}${path}\n",
              "                                </a>\n",
              "                            </div>\n",
              "                        `;\n",
              "                        element.appendChild(external_link);\n",
              "\n",
              "                        const iframe = document.createElement('iframe');\n",
              "                        iframe.src = new URL(path, url).toString();\n",
              "                        iframe.height = height;\n",
              "                        iframe.allow = \"autoplay; camera; microphone; clipboard-read; clipboard-write;\"\n",
              "                        iframe.width = width;\n",
              "                        iframe.style.border = 0;\n",
              "                        element.appendChild(iframe);\n",
              "                    })(52563, \"/\", \"100%\", 500, false, window.element)"
            ]
          },
          "metadata": {}
        }
      ]
    }
  ]
}